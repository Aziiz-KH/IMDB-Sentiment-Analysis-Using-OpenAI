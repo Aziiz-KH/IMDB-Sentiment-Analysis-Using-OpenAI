{
 "cells": [
  {
   "cell_type": "code",
   "execution_count": 74,
   "id": "83cde3dd-5797-4fdf-b656-803684fddd6b",
   "metadata": {},
   "outputs": [],
   "source": [
    "import os\n",
    "from openai import OpenAI"
   ]
  },
  {
   "cell_type": "code",
   "execution_count": 75,
   "id": "cf4fe8f9-f3ab-4da6-bc9a-e40215e07546",
   "metadata": {},
   "outputs": [],
   "source": [
    "client = OpenAI(api_key=\"OPENAI_KEY\")"
   ]
  },
  {
   "cell_type": "code",
   "execution_count": 76,
   "id": "48416db6-d7e0-4845-8224-78055cd8964f",
   "metadata": {},
   "outputs": [],
   "source": [
    "import pandas as pd"
   ]
  },
  {
   "cell_type": "code",
   "execution_count": 77,
   "id": "ee079b41-c8a3-4ca1-8aa7-9450e1d1996f",
   "metadata": {},
   "outputs": [],
   "source": [
    "df = pd.read_csv(\"C://Users//user//COOP Traning//IMDB Sentimant analysis//IMDB Datasetvs2.csv\")"
   ]
  },
  {
   "cell_type": "code",
   "execution_count": 78,
   "id": "949bd597-12cb-49a3-bcb5-1412c49b7eb5",
   "metadata": {},
   "outputs": [
    {
     "data": {
      "text/html": [
       "<div>\n",
       "<style scoped>\n",
       "    .dataframe tbody tr th:only-of-type {\n",
       "        vertical-align: middle;\n",
       "    }\n",
       "\n",
       "    .dataframe tbody tr th {\n",
       "        vertical-align: top;\n",
       "    }\n",
       "\n",
       "    .dataframe thead th {\n",
       "        text-align: right;\n",
       "    }\n",
       "</style>\n",
       "<table border=\"1\" class=\"dataframe\">\n",
       "  <thead>\n",
       "    <tr style=\"text-align: right;\">\n",
       "      <th></th>\n",
       "      <th>review</th>\n",
       "      <th>sentiment</th>\n",
       "    </tr>\n",
       "  </thead>\n",
       "  <tbody>\n",
       "    <tr>\n",
       "      <th>0</th>\n",
       "      <td>One of the other reviewers has mentioned that ...</td>\n",
       "      <td>positive</td>\n",
       "    </tr>\n",
       "    <tr>\n",
       "      <th>1</th>\n",
       "      <td>A wonderful little production. &lt;br /&gt;&lt;br /&gt;The...</td>\n",
       "      <td>positive</td>\n",
       "    </tr>\n",
       "    <tr>\n",
       "      <th>2</th>\n",
       "      <td>I thought this was a wonderful way to spend ti...</td>\n",
       "      <td>positive</td>\n",
       "    </tr>\n",
       "    <tr>\n",
       "      <th>3</th>\n",
       "      <td>Basically there's a family where a little boy ...</td>\n",
       "      <td>negative</td>\n",
       "    </tr>\n",
       "    <tr>\n",
       "      <th>4</th>\n",
       "      <td>Petter Mattei's \"Love in the Time of Money\" is...</td>\n",
       "      <td>positive</td>\n",
       "    </tr>\n",
       "  </tbody>\n",
       "</table>\n",
       "</div>"
      ],
      "text/plain": [
       "                                              review sentiment\n",
       "0  One of the other reviewers has mentioned that ...  positive\n",
       "1  A wonderful little production. <br /><br />The...  positive\n",
       "2  I thought this was a wonderful way to spend ti...  positive\n",
       "3  Basically there's a family where a little boy ...  negative\n",
       "4  Petter Mattei's \"Love in the Time of Money\" is...  positive"
      ]
     },
     "execution_count": 78,
     "metadata": {},
     "output_type": "execute_result"
    }
   ],
   "source": [
    "df.head()"
   ]
  },
  {
   "cell_type": "code",
   "execution_count": 79,
   "id": "5a2b602a-adf1-4689-b8b7-f6b7d1663717",
   "metadata": {},
   "outputs": [],
   "source": [
    "df['review'] = df['review'].str.lower()"
   ]
  },
  {
   "cell_type": "code",
   "execution_count": 81,
   "id": "40948ba0-bc6a-4cc0-8e75-d8b3ac45b568",
   "metadata": {},
   "outputs": [],
   "source": [
    "def get_sentiment(review):\n",
    "    response = client.chat.completions.create(\n",
    "        model=\"gpt-3.5-turbo\",\n",
    "        messages=[\n",
    "            {\"role\": \"system\", \"content\": \"You are a helpful assistant.\"},\n",
    "            {\"role\": \"user\", \"content\": f\"Please determine if the following movie review is positive or negative:\\n\\n{review}\"}\n",
    "        ],\n",
    "        max_tokens=60\n",
    "    )\n",
    "    sentiment = response.choices[0].message.content.strip().lower()\n",
    "    return 'positive' if 'positive' in sentiment else 'negative'"
   ]
  },
  {
   "cell_type": "code",
   "execution_count": 82,
   "id": "1e354f57-35fb-4503-9ee0-6c014c724715",
   "metadata": {},
   "outputs": [],
   "source": [
    "df['predicted_sentiment'] = df['review'].apply(get_sentiment)"
   ]
  },
  {
   "cell_type": "code",
   "execution_count": 83,
   "id": "ae5fd357-2dce-4fcc-985f-e838a5c03f44",
   "metadata": {},
   "outputs": [],
   "source": [
    "from sklearn.metrics import accuracy_score, classification_report"
   ]
  },
  {
   "cell_type": "code",
   "execution_count": 84,
   "id": "adb4ad65-98e6-4ca9-a8dc-cee3928fe2e3",
   "metadata": {},
   "outputs": [],
   "source": [
    "df['sentiment'] = df['sentiment'].str.lower()"
   ]
  },
  {
   "cell_type": "code",
   "execution_count": 85,
   "id": "1ca70d38-cf9e-4fce-a699-d907ab23a1be",
   "metadata": {},
   "outputs": [],
   "source": [
    "accuracy = accuracy_score(df['sentiment'], df['predicted_sentiment'])"
   ]
  },
  {
   "cell_type": "code",
   "execution_count": 86,
   "id": "bf2c1833-4f84-4eb9-b22a-8524ba9bad49",
   "metadata": {},
   "outputs": [
    {
     "name": "stdout",
     "output_type": "stream",
     "text": [
      "Accuracy: 0.9494949494949495\n"
     ]
    }
   ],
   "source": [
    "print(f'Accuracy: {accuracy}')"
   ]
  },
  {
   "cell_type": "code",
   "execution_count": 87,
   "id": "f42aa076-3d78-47ae-9cc5-1fda67cf3361",
   "metadata": {},
   "outputs": [
    {
     "name": "stdout",
     "output_type": "stream",
     "text": [
      "              precision    recall  f1-score   support\n",
      "\n",
      "    negative       0.95      0.97      0.96        58\n",
      "    positive       0.95      0.93      0.94        41\n",
      "\n",
      "    accuracy                           0.95        99\n",
      "   macro avg       0.95      0.95      0.95        99\n",
      "weighted avg       0.95      0.95      0.95        99\n",
      "\n"
     ]
    }
   ],
   "source": [
    "print(classification_report(df['sentiment'], df['predicted_sentiment']))"
   ]
  },
  {
   "cell_type": "code",
   "execution_count": 88,
   "id": "0388f754-1c89-4553-bf2f-d8037a2f0e0e",
   "metadata": {},
   "outputs": [
    {
     "data": {
      "image/png": "[encoded data removed]",
      "text/plain": [
       "<Figure size 640x480 with 2 Axes>"
      ]
     },
     "metadata": {},
     "output_type": "display_data"
    }
   ],
   "source": [
    "import matplotlib.pyplot as plt\n",
    "import seaborn as sns\n",
    "from sklearn.metrics import confusion_matrix\n",
    "\n",
    "# Confusion Matrix\n",
    "cm = confusion_matrix(df['sentiment'], df['predicted_sentiment'])\n",
    "sns.heatmap(cm, annot=True, fmt='d', cmap='Blues', xticklabels=['Negative', 'Positive'], yticklabels=['Negative', 'Positive'])\n",
    "plt.xlabel('Predicted')\n",
    "plt.ylabel('Actual')\n",
    "plt.title('Confusion Matrix')\n",
    "plt.show()"
   ]
  },
  {
   "cell_type": "code",
   "execution_count": null,
   "id": "f0b1b13d-4b01-46e0-a2df-ba801d75c346",
   "metadata": {},
   "outputs": [],
   "source": []
  }
 ],
 "metadata": {
  "kernelspec": {
   "display_name": "Python 3 (ipykernel)",
   "language": "python",
   "name": "python3"
  },
  "language_info": {
   "codemirror_mode": {
    "name": "ipython",
    "version": 3
   },
   "file_extension": ".py",
   "mimetype": "text/x-python",
   "name": "python",
   "nbconvert_exporter": "python",
   "pygments_lexer": "ipython3",
   "version": "3.11.2"
  }
 },
 "nbformat": 4,
 "nbformat_minor": 5
}
